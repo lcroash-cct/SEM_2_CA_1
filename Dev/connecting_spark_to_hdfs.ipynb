{
 "cells": [
  {
   "cell_type": "markdown",
   "metadata": {},
   "source": [
    "# INSERT screenshots and/or terminal output to demonstrate the process of activating the hadoop cluster\n",
    "# then adding the files to HDFS"
   ]
  },
  {
   "cell_type": "code",
   "execution_count": 4,
   "metadata": {},
   "outputs": [
    {
     "name": "stdout",
     "output_type": "stream",
     "text": [
      "/home/hduser/env/myenv/bin:/usr/local/sbin:/usr/local/bin:/usr/sbin:/usr/bin:/sbin:/bin:/usr/games:/usr/local/games:/snap/bin:/snap/bin:/usr/local/hadoop/bin:/bin:/usr/local/hadoop/sbin:/usr/local/hadoop/bin:/bin:/usr/local/hadoop/sbin:/opt/spark/bin:/usr/local/hadoop/bin:/bin:/usr/local/hadoop/sbin:/opt/spark/bin\n",
      "/home/hduser/env/myenv/bin/python\n",
      "/home/hduser/env/myenv\n"
     ]
    }
   ],
   "source": [
    "import pyspark\n",
    "\n",
    "import findspark\n",
    "\n",
    "from pyspark.sql import SparkSession\n",
    "\n",
    "import os\n",
    "\n",
    "# os.environ['SPARK_HOME']\n",
    "\n",
    "# os.environ['SPARK_HOME'] = '/opt/spark/'\n",
    "\n",
    "print(os.environ['PATH'])\n",
    "\n",
    "findspark.init('/opt/spark/')\n",
    "\n",
    "spark = SparkSession.builder.appName('SparkExample').config('spark.driver.python', '/snap/jupyter/6/bin/python3').getOrCreate()\n",
    "\n",
    "import sys\n",
    "\n",
    "print(sys.executable)\n",
    "\n",
    "print(sys.prefix)"
   ]
  },
  {
   "cell_type": "code",
   "execution_count": 17,
   "metadata": {},
   "outputs": [
    {
     "name": "stderr",
     "output_type": "stream",
     "text": [
      "                                                                                \r"
     ]
    }
   ],
   "source": [
    "dfs = spark.read.csv(\"hdfs://localhost:9000/transactions/*.csv\", header=True, inferSchema=True)"
   ]
  },
  {
   "cell_type": "code",
   "execution_count": 13,
   "metadata": {},
   "outputs": [
    {
     "name": "stdout",
     "output_type": "stream",
     "text": [
      "+---------+---------+------------+---------+--------+-----+----------+------------+------------+------------+------------+--------------+-----+-----+---------------+-----------+--------------------+-----------+--------------------+----------+------------+------------+\n",
      "|      _c0|      _c1|         _c2|      _c3|     _c4|  _c5|       _c6|         _c7|         _c8|         _c9|        _c10|          _c11| _c12| _c13|           _c14|       _c15|                _c16|       _c17|                _c18|      _c19|        _c20|        _c21|\n",
      "+---------+---------+------------+---------+--------+-----+----------+------------+------------+------------+------------+--------------+-----+-----+---------------+-----------+--------------------+-----------+--------------------+----------+------------+------------+\n",
      "|SHOP_WEEK|SHOP_DATE|SHOP_WEEKDAY|SHOP_HOUR|QUANTITY|SPEND| PROD_CODE|PROD_CODE_10|PROD_CODE_20|PROD_CODE_30|PROD_CODE_40|     CUST_CODE|seg_1|seg_2|      BASKET_ID|BASKET_SIZE|BASKET_PRICE_SENS...|BASKET_TYPE|BASKET_DOMINANT_M...|STORE_CODE|STORE_FORMAT|STORE_REGION|\n",
      "|   200643| 20061224|           1|       14|       1| 1.77|PRD0900008|     CL00042|    DEP00011|      G00004|      D00002|CUST0000096000|   AZ|   BU|994103700265943|          M|                  UM| Small Shop|               Mixed|STORE00001|          LS|         E02|\n",
      "|   200643| 20061218|           2|       19|       1| 1.05|PRD0900011|     CL00033|    DEP00008|      G00004|      D00002|CUST0000206560|   BG|   DI|994103700348637|          L|                  UM|  Full Shop|               Mixed|STORE00001|          LS|         E02|\n",
      "|   200643| 20061223|           7|       18|       3| 3.15|PRD0900011|     CL00033|    DEP00008|      G00004|      D00002|CUST0000017325|   CT|   AT|994103700207109|          L|                  MM|     Top Up|               Fresh|STORE00001|          LS|         E02|\n",
      "|   200643| 20061223|           7|       15|       1| 1.03|PRD0900015|     CL00015|    DEP00004|      G00003|      D00001|CUST0000871730|   BG| null|994103700845926|          L|                  UM|     Top Up|               Fresh|STORE00001|          LS|         E02|\n",
      "|   200643| 20061218|           2|       15|       3|13.26|PRD0900016|     CL00165|    DEP00055|      G00016|      D00003|CUST0000173993|   BG|   CZ|994103700324145|          L|                  MM|  Full Shop|               Mixed|STORE00001|          LS|         E02|\n",
      "|   200643| 20061219|           3|       12|       3|13.26|PRD0900016|     CL00165|    DEP00055|      G00016|      D00003|CUST0000540040|   CT|   AT|994103700597782|          L|                  MM|  Full Shop|               Mixed|STORE00001|          LS|         E02|\n",
      "|   200643| 20061219|           3|       15|       3|13.26|PRD0900016|     CL00165|    DEP00055|      G00016|      D00003|CUST0000017325|   CT|   AT|994103700207110|          L|                  MM|  Full Shop|               Mixed|STORE00001|          LS|         E02|\n",
      "|   200643| 20061218|           2|       15|       3| 2.55|PRD0900020|     CL00202|    DEP00067|      G00021|      D00005|CUST0000173993|   BG|   CZ|994103700324145|          L|                  MM|  Full Shop|               Mixed|STORE00001|          LS|         E02|\n",
      "|   200643| 20061224|           1|       19|       1| 0.85|PRD0900020|     CL00202|    DEP00067|      G00021|      D00005|          null| null| null|994103700017507|          L|                  MM|  Full Shop|               Mixed|STORE00001|          LS|         E02|\n",
      "|   200643| 20061223|           7|       15|       1| 0.52|PRD0900024|     CL00160|    DEP00054|      G00016|      D00003|CUST0000871730|   BG| null|994103700845926|          L|                  UM|     Top Up|               Fresh|STORE00001|          LS|         E02|\n",
      "|   200643| 20061222|           6|       12|       1| 0.52|PRD0900024|     CL00160|    DEP00054|      G00016|      D00003|CUST0000160899|   BG|   EQ|994103700314386|          L|                  MM|     Top Up|               Mixed|STORE00001|          LS|         E02|\n",
      "|   200643| 20061222|           6|        8|       3| 2.52|PRD0900034|     CL00129|    DEP00046|      G00013|      D00003|CUST0000534768|   AZ|   DI|994103700593728|          L|                  LA|  Full Shop|               Mixed|STORE00001|          LS|         E02|\n",
      "|   200643| 20061219|           3|       21|       1| 1.56|PRD0900049|     CL00160|    DEP00054|      G00016|      D00003|CUST0000436394|   AZ| null|994103700520900|          L|                  MM|  Full Shop|               Mixed|STORE00001|          LS|         E02|\n",
      "|   200643| 20061218|           2|       13|       1| 1.75|PRD0900058|     CL00020|    DEP00005|      G00003|      D00001|CUST0000344309|   CT|   AT|994103700451904|          L|                  UM|  Full Shop|             Grocery|STORE00001|          LS|         E02|\n",
      "|   200643| 20061224|           1|       16|       1| 2.14|PRD0900063|     CL00185|    DEP00062|      G00018|      D00004|          null| null| null|994103700081186|          L|                  MM|     Top Up|               Mixed|STORE00001|          LS|         E02|\n",
      "|   200643| 20061222|           6|       15|       1| 1.09|PRD0900066|     CL00041|    DEP00011|      G00004|      D00002|CUST0000414514|   CT|   BU|994103700504485|          L|                  UM|  Full Shop|               Mixed|STORE00001|          LS|         E02|\n",
      "|   200643| 20061221|           5|        8|       1| 0.57|PRD0900069|     CL00134|    DEP00047|      G00013|      D00003|CUST0000622502|   AZ|   CZ|994103700659723|          L|                  MM|     Top Up|               Mixed|STORE00001|          LS|         E02|\n",
      "|   200643| 20061218|           2|       12|       1| 1.05|PRD0900077|     CL00150|    DEP00052|      G00015|      D00003|CUST0000710863|   AZ|   DI|994103700726239|          L|                  MM|  Full Shop|               Mixed|STORE00001|          LS|         E02|\n",
      "|   200643| 20061224|           1|       14|       1| 1.07|PRD0900079|     CL00157|    DEP00053|      G00016|      D00003|          null| null| null|994103700150926|          L|                  LA|     Top Up|               Mixed|STORE00001|          LS|         E02|\n",
      "+---------+---------+------------+---------+--------+-----+----------+------------+------------+------------+------------+--------------+-----+-----+---------------+-----------+--------------------+-----------+--------------------+----------+------------+------------+\n",
      "only showing top 20 rows\n",
      "\n"
     ]
    }
   ],
   "source": [
    "dfs.show()"
   ]
  },
  {
   "cell_type": "code",
   "execution_count": 18,
   "metadata": {},
   "outputs": [
    {
     "name": "stdout",
     "output_type": "stream",
     "text": [
      "root\n",
      " |-- SHOP_WEEK: string (nullable = true)\n",
      " |-- SHOP_DATE: string (nullable = true)\n",
      " |-- SHOP_WEEKDAY: string (nullable = true)\n",
      " |-- SHOP_HOUR: string (nullable = true)\n",
      " |-- QUANTITY: string (nullable = true)\n",
      " |-- SPEND: string (nullable = true)\n",
      " |-- PROD_CODE: string (nullable = true)\n",
      " |-- PROD_CODE_10: string (nullable = true)\n",
      " |-- PROD_CODE_20: string (nullable = true)\n",
      " |-- PROD_CODE_30: string (nullable = true)\n",
      " |-- PROD_CODE_40: string (nullable = true)\n",
      " |-- CUST_CODE: string (nullable = true)\n",
      " |-- seg_1: string (nullable = true)\n",
      " |-- seg_2: string (nullable = true)\n",
      " |-- BASKET_ID: string (nullable = true)\n",
      " |-- BASKET_SIZE: string (nullable = true)\n",
      " |-- BASKET_PRICE_SENSITIVITY: string (nullable = true)\n",
      " |-- BASKET_TYPE: string (nullable = true)\n",
      " |-- BASKET_DOMINANT_MISSION: string (nullable = true)\n",
      " |-- STORE_CODE: string (nullable = true)\n",
      " |-- STORE_FORMAT: string (nullable = true)\n",
      " |-- STORE_REGION: string (nullable = true)\n",
      "\n"
     ]
    }
   ],
   "source": [
    "dfs.printSchema()"
   ]
  },
  {
   "cell_type": "markdown",
   "metadata": {},
   "source": [
    "### Perform groupby operations to aggregate data by date for:\n",
    "##### total spend by store code\n",
    "##### total spend by store format\n",
    "##### total spend by prod code / prod_code_10 / prod_code_20 etc - depending on the highest level of granularity during EDA\n"
   ]
  },
  {
   "cell_type": "markdown",
   "metadata": {},
   "source": [
    "### Explore EDA capabilities of pyspark - is it better to use pandas on the data directly?\n",
    "### How useful is spark for feature engineering vs python?\n",
    "### Is it better to build NN in spark (does spark support keras/tensorflow) or in python?"
   ]
  },
  {
   "cell_type": "code",
   "execution_count": null,
   "metadata": {},
   "outputs": [],
   "source": []
  }
 ],
 "metadata": {
  "kernelspec": {
   "display_name": "Python 3 (ipykernel)",
   "language": "python",
   "name": "python3"
  },
  "language_info": {
   "codemirror_mode": {
    "name": "ipython",
    "version": 3
   },
   "file_extension": ".py",
   "mimetype": "text/x-python",
   "name": "python",
   "nbconvert_exporter": "python",
   "pygments_lexer": "ipython3",
   "version": "3.10.12"
  }
 },
 "nbformat": 4,
 "nbformat_minor": 4
}
