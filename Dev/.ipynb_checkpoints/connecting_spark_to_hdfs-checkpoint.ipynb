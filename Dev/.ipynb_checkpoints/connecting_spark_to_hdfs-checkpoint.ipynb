{
 "cells": [
  {
   "cell_type": "markdown",
   "metadata": {},
   "source": [
    "# INSERT screenshots and/or terminal output to demonstrate the process of activating the hadoop cluster\n",
    "# then adding the files to HDFS"
   ]
  },
  {
   "cell_type": "code",
   "execution_count": 1,
   "metadata": {},
   "outputs": [
    {
     "name": "stdout",
     "output_type": "stream",
     "text": [
      "/home/hduser/env/myenv/bin:/usr/local/sbin:/usr/local/bin:/usr/sbin:/usr/bin:/sbin:/bin:/usr/games:/usr/local/games:/snap/bin:/snap/bin:/usr/local/hadoop/bin:/bin:/usr/local/hadoop/sbin:/usr/local/hadoop/bin:/bin:/usr/local/hadoop/sbin:/opt/spark/bin:/usr/local/hadoop/bin:/bin:/usr/local/hadoop/sbin:/opt/spark/bin\n"
     ]
    },
    {
     "name": "stderr",
     "output_type": "stream",
     "text": [
      "23/09/14 08:46:07 WARN Utils: Your hostname, muhammad-VM resolves to a loopback address: 127.0.1.1; using 10.0.2.15 instead (on interface enp0s3)\n",
      "23/09/14 08:46:07 WARN Utils: Set SPARK_LOCAL_IP if you need to bind to another address\n",
      "Setting default log level to \"WARN\".\n",
      "To adjust logging level use sc.setLogLevel(newLevel). For SparkR, use setLogLevel(newLevel).\n",
      "23/09/14 08:46:09 WARN NativeCodeLoader: Unable to load native-hadoop library for your platform... using builtin-java classes where applicable\n",
      "23/09/14 08:46:11 WARN Utils: Service 'SparkUI' could not bind on port 4040. Attempting port 4041.\n",
      "23/09/14 08:46:11 WARN Utils: Service 'SparkUI' could not bind on port 4041. Attempting port 4042.\n"
     ]
    },
    {
     "name": "stdout",
     "output_type": "stream",
     "text": [
      "/home/hduser/env/myenv/bin/python\n",
      "/home/hduser/env/myenv\n"
     ]
    }
   ],
   "source": [
    "import pyspark\n",
    "\n",
    "import findspark\n",
    "\n",
    "from pyspark.sql import SparkSession\n",
    "from pyspark.sql.functions import udf\n",
    "from pyspark.sql.types import IntegerType\n",
    "from pyspark.sql.functions import to_date, col, substring\n",
    "import re\n",
    "\n",
    "import pandas as pd\n",
    "import os\n",
    "\n",
    "# os.environ['SPARK_HOME']\n",
    "\n",
    "# os.environ['SPARK_HOME'] = '/opt/spark/'\n",
    "\n",
    "print(os.environ['PATH'])\n",
    "\n",
    "findspark.init('/opt/spark/')\n",
    "\n",
    "spark = SparkSession.builder.appName('SparkExample').config('spark.driver.python', '/snap/jupyter/6/bin/python3').getOrCreate()\n",
    "\n",
    "import sys\n",
    "\n",
    "print(sys.executable)\n",
    "\n",
    "print(sys.prefix)"
   ]
  },
  {
   "cell_type": "code",
   "execution_count": 2,
   "metadata": {},
   "outputs": [
    {
     "name": "stderr",
     "output_type": "stream",
     "text": [
      "                                                                                \r"
     ]
    }
   ],
   "source": [
    "dfs = spark.read.csv(\"hdfs://localhost:9000/transactions/*.csv\", header=True, inferSchema=True)"
   ]
  },
  {
   "cell_type": "code",
   "execution_count": 3,
   "metadata": {},
   "outputs": [
    {
     "name": "stdout",
     "output_type": "stream",
     "text": [
      "+---------+---------+------------+---------+--------+-----+----------+------------+------------+------------+------------+--------------+-----+-----+---------------+-----------+------------------------+-----------+-----------------------+----------+------------+------------+\n",
      "|SHOP_WEEK|SHOP_DATE|SHOP_WEEKDAY|SHOP_HOUR|QUANTITY|SPEND| PROD_CODE|PROD_CODE_10|PROD_CODE_20|PROD_CODE_30|PROD_CODE_40|     CUST_CODE|seg_1|seg_2|      BASKET_ID|BASKET_SIZE|BASKET_PRICE_SENSITIVITY|BASKET_TYPE|BASKET_DOMINANT_MISSION|STORE_CODE|STORE_FORMAT|STORE_REGION|\n",
      "+---------+---------+------------+---------+--------+-----+----------+------------+------------+------------+------------+--------------+-----+-----+---------------+-----------+------------------------+-----------+-----------------------+----------+------------+------------+\n",
      "|   200643| 20061224|           1|       14|       1| 1.77|PRD0900008|     CL00042|    DEP00011|      G00004|      D00002|CUST0000096000|   AZ|   BU|994103700265943|          M|                      UM| Small Shop|                  Mixed|STORE00001|          LS|         E02|\n",
      "|   200643| 20061218|           2|       19|       1| 1.05|PRD0900011|     CL00033|    DEP00008|      G00004|      D00002|CUST0000206560|   BG|   DI|994103700348637|          L|                      UM|  Full Shop|                  Mixed|STORE00001|          LS|         E02|\n",
      "|   200643| 20061223|           7|       18|       3| 3.15|PRD0900011|     CL00033|    DEP00008|      G00004|      D00002|CUST0000017325|   CT|   AT|994103700207109|          L|                      MM|     Top Up|                  Fresh|STORE00001|          LS|         E02|\n",
      "|   200643| 20061223|           7|       15|       1| 1.03|PRD0900015|     CL00015|    DEP00004|      G00003|      D00001|CUST0000871730|   BG| null|994103700845926|          L|                      UM|     Top Up|                  Fresh|STORE00001|          LS|         E02|\n",
      "|   200643| 20061218|           2|       15|       3|13.26|PRD0900016|     CL00165|    DEP00055|      G00016|      D00003|CUST0000173993|   BG|   CZ|994103700324145|          L|                      MM|  Full Shop|                  Mixed|STORE00001|          LS|         E02|\n",
      "|   200643| 20061219|           3|       12|       3|13.26|PRD0900016|     CL00165|    DEP00055|      G00016|      D00003|CUST0000540040|   CT|   AT|994103700597782|          L|                      MM|  Full Shop|                  Mixed|STORE00001|          LS|         E02|\n",
      "|   200643| 20061219|           3|       15|       3|13.26|PRD0900016|     CL00165|    DEP00055|      G00016|      D00003|CUST0000017325|   CT|   AT|994103700207110|          L|                      MM|  Full Shop|                  Mixed|STORE00001|          LS|         E02|\n",
      "|   200643| 20061218|           2|       15|       3| 2.55|PRD0900020|     CL00202|    DEP00067|      G00021|      D00005|CUST0000173993|   BG|   CZ|994103700324145|          L|                      MM|  Full Shop|                  Mixed|STORE00001|          LS|         E02|\n",
      "|   200643| 20061224|           1|       19|       1| 0.85|PRD0900020|     CL00202|    DEP00067|      G00021|      D00005|          null| null| null|994103700017507|          L|                      MM|  Full Shop|                  Mixed|STORE00001|          LS|         E02|\n",
      "|   200643| 20061223|           7|       15|       1| 0.52|PRD0900024|     CL00160|    DEP00054|      G00016|      D00003|CUST0000871730|   BG| null|994103700845926|          L|                      UM|     Top Up|                  Fresh|STORE00001|          LS|         E02|\n",
      "|   200643| 20061222|           6|       12|       1| 0.52|PRD0900024|     CL00160|    DEP00054|      G00016|      D00003|CUST0000160899|   BG|   EQ|994103700314386|          L|                      MM|     Top Up|                  Mixed|STORE00001|          LS|         E02|\n",
      "|   200643| 20061222|           6|        8|       3| 2.52|PRD0900034|     CL00129|    DEP00046|      G00013|      D00003|CUST0000534768|   AZ|   DI|994103700593728|          L|                      LA|  Full Shop|                  Mixed|STORE00001|          LS|         E02|\n",
      "|   200643| 20061219|           3|       21|       1| 1.56|PRD0900049|     CL00160|    DEP00054|      G00016|      D00003|CUST0000436394|   AZ| null|994103700520900|          L|                      MM|  Full Shop|                  Mixed|STORE00001|          LS|         E02|\n",
      "|   200643| 20061218|           2|       13|       1| 1.75|PRD0900058|     CL00020|    DEP00005|      G00003|      D00001|CUST0000344309|   CT|   AT|994103700451904|          L|                      UM|  Full Shop|                Grocery|STORE00001|          LS|         E02|\n",
      "|   200643| 20061224|           1|       16|       1| 2.14|PRD0900063|     CL00185|    DEP00062|      G00018|      D00004|          null| null| null|994103700081186|          L|                      MM|     Top Up|                  Mixed|STORE00001|          LS|         E02|\n",
      "|   200643| 20061222|           6|       15|       1| 1.09|PRD0900066|     CL00041|    DEP00011|      G00004|      D00002|CUST0000414514|   CT|   BU|994103700504485|          L|                      UM|  Full Shop|                  Mixed|STORE00001|          LS|         E02|\n",
      "|   200643| 20061221|           5|        8|       1| 0.57|PRD0900069|     CL00134|    DEP00047|      G00013|      D00003|CUST0000622502|   AZ|   CZ|994103700659723|          L|                      MM|     Top Up|                  Mixed|STORE00001|          LS|         E02|\n",
      "|   200643| 20061218|           2|       12|       1| 1.05|PRD0900077|     CL00150|    DEP00052|      G00015|      D00003|CUST0000710863|   AZ|   DI|994103700726239|          L|                      MM|  Full Shop|                  Mixed|STORE00001|          LS|         E02|\n",
      "|   200643| 20061224|           1|       14|       1| 1.07|PRD0900079|     CL00157|    DEP00053|      G00016|      D00003|          null| null| null|994103700150926|          L|                      LA|     Top Up|                  Mixed|STORE00001|          LS|         E02|\n",
      "|   200643| 20061221|           5|       16|       1| 0.57|PRD0900087|     CL00138|    DEP00048|      G00013|      D00003|CUST0000021218|   CT|   BU|994103700210032|          M|                      MM|     Top Up|                  Fresh|STORE00001|          LS|         E02|\n",
      "+---------+---------+------------+---------+--------+-----+----------+------------+------------+------------+------------+--------------+-----+-----+---------------+-----------+------------------------+-----------+-----------------------+----------+------------+------------+\n",
      "only showing top 20 rows\n",
      "\n"
     ]
    }
   ],
   "source": [
    "dfs.show()"
   ]
  },
  {
   "cell_type": "code",
   "execution_count": 4,
   "metadata": {},
   "outputs": [
    {
     "name": "stdout",
     "output_type": "stream",
     "text": [
      "root\n",
      " |-- SHOP_WEEK: string (nullable = true)\n",
      " |-- SHOP_DATE: string (nullable = true)\n",
      " |-- SHOP_WEEKDAY: string (nullable = true)\n",
      " |-- SHOP_HOUR: string (nullable = true)\n",
      " |-- QUANTITY: string (nullable = true)\n",
      " |-- SPEND: string (nullable = true)\n",
      " |-- PROD_CODE: string (nullable = true)\n",
      " |-- PROD_CODE_10: string (nullable = true)\n",
      " |-- PROD_CODE_20: string (nullable = true)\n",
      " |-- PROD_CODE_30: string (nullable = true)\n",
      " |-- PROD_CODE_40: string (nullable = true)\n",
      " |-- CUST_CODE: string (nullable = true)\n",
      " |-- seg_1: string (nullable = true)\n",
      " |-- seg_2: string (nullable = true)\n",
      " |-- BASKET_ID: string (nullable = true)\n",
      " |-- BASKET_SIZE: string (nullable = true)\n",
      " |-- BASKET_PRICE_SENSITIVITY: string (nullable = true)\n",
      " |-- BASKET_TYPE: string (nullable = true)\n",
      " |-- BASKET_DOMINANT_MISSION: string (nullable = true)\n",
      " |-- STORE_CODE: string (nullable = true)\n",
      " |-- STORE_FORMAT: string (nullable = true)\n",
      " |-- STORE_REGION: string (nullable = true)\n",
      "\n"
     ]
    }
   ],
   "source": [
    "dfs.printSchema()"
   ]
  },
  {
   "cell_type": "markdown",
   "metadata": {},
   "source": [
    "### Perform groupby operations to aggregate data by date for:\n",
    "##### total spend by store code\n",
    "##### total spend by store format\n",
    "##### total spend by prod code / prod_code_10 / prod_code_20 etc - depending on the highest level of granularity during EDA\n"
   ]
  },
  {
   "cell_type": "code",
   "execution_count": 5,
   "metadata": {},
   "outputs": [],
   "source": [
    "dfs.createOrReplaceTempView(\"STORE_DATA\")"
   ]
  },
  {
   "cell_type": "code",
   "execution_count": 6,
   "metadata": {},
   "outputs": [],
   "source": [
    "store_df = spark.sql(\"SELECT SHOP_DATE, STORE_CODE, SUM(QUANTITY) AS TOTAL_QTY, ROUND(SUM(SPEND), 2) AS TOTAL_SPEND FROM STORE_DATA GROUP BY SHOP_DATE, STORE_CODE\")"
   ]
  },
  {
   "cell_type": "code",
   "execution_count": 7,
   "metadata": {},
   "outputs": [
    {
     "name": "stderr",
     "output_type": "stream",
     "text": [
      "[Stage 7:>                                                          (0 + 1) / 1]\r"
     ]
    },
    {
     "name": "stdout",
     "output_type": "stream",
     "text": [
      "+---------+----------+---------+-----------+\n",
      "|SHOP_DATE|STORE_CODE|TOTAL_QTY|TOTAL_SPEND|\n",
      "+---------+----------+---------+-----------+\n",
      "| 20061223|STORE00003|    215.0|     316.65|\n",
      "| 20061219|STORE00113|    235.0|     340.55|\n",
      "| 20061221|STORE00120|     21.0|      70.53|\n",
      "| 20061224|STORE00227|     73.0|     164.17|\n",
      "| 20061224|STORE00432|     86.0|     118.75|\n",
      "| 20061219|STORE00494|     13.0|      10.78|\n",
      "| 20061221|STORE00633|    144.0|     228.09|\n",
      "| 20061221|STORE00639|    155.0|      178.8|\n",
      "| 20061222|STORE01091|      9.0|      12.73|\n",
      "| 20061220|STORE01215|    125.0|     202.03|\n",
      "| 20061218|STORE01289|     36.0|      37.31|\n",
      "| 20061222|STORE01330|     24.0|      22.07|\n",
      "| 20061222|STORE01603|     21.0|       27.4|\n",
      "| 20061224|STORE01651|    113.0|     137.57|\n",
      "| 20061222|STORE01672|     41.0|      53.55|\n",
      "| 20061221|STORE01707|    264.0|     350.76|\n",
      "| 20061223|STORE01793|     23.0|      18.85|\n",
      "| 20061223|STORE02524|    147.0|     200.77|\n",
      "| 20061219|STORE02575|      8.0|      28.24|\n",
      "| 20061220|STORE02619|    241.0|     316.43|\n",
      "+---------+----------+---------+-----------+\n",
      "only showing top 20 rows\n",
      "\n"
     ]
    },
    {
     "name": "stderr",
     "output_type": "stream",
     "text": [
      "                                                                                \r"
     ]
    }
   ],
   "source": [
    "store_df.show()"
   ]
  },
  {
   "cell_type": "code",
   "execution_count": 8,
   "metadata": {},
   "outputs": [],
   "source": [
    "store_format_df = spark.sql(\"SELECT SHOP_DATE, STORE_CODE, STORE_FORMAT, SUM(QUANTITY) AS TOTAL_QTY, ROUND(SUM(SPEND), 2) AS TOTAL_SPEND FROM STORE_DATA GROUP BY SHOP_DATE, STORE_CODE, STORE_FORMAT\")"
   ]
  },
  {
   "cell_type": "code",
   "execution_count": 9,
   "metadata": {},
   "outputs": [
    {
     "name": "stderr",
     "output_type": "stream",
     "text": [
      "[Stage 8:=======================================================> (38 + 1) / 39]\r"
     ]
    },
    {
     "name": "stdout",
     "output_type": "stream",
     "text": [
      "+---------+----------+------------+---------+-----------+\n",
      "|SHOP_DATE|STORE_CODE|STORE_FORMAT|TOTAL_QTY|TOTAL_SPEND|\n",
      "+---------+----------+------------+---------+-----------+\n",
      "| 20061218|STORE00107|          LS|     98.0|     153.96|\n",
      "| 20061218|STORE00120|          MS|      8.0|      22.61|\n",
      "| 20061218|STORE00422|          MS|     78.0|     147.67|\n",
      "| 20061221|STORE00425|          MS|     63.0|     118.09|\n",
      "| 20061221|STORE00460|          LS|    217.0|     317.46|\n",
      "| 20061221|STORE00807|          LS|     66.0|      79.44|\n",
      "| 20061222|STORE00840|          LS|    325.0|     487.22|\n",
      "| 20061221|STORE00877|          LS|    290.0|     487.31|\n",
      "| 20061223|STORE00895|          SS|      6.0|       8.73|\n",
      "| 20061222|STORE00966|          MS|    145.0|     194.21|\n",
      "| 20061218|STORE01035|          LS|     16.0|      16.61|\n",
      "| 20061219|STORE01160|          LS|    108.0|     136.29|\n",
      "| 20061224|STORE01298|          SS|     26.0|      26.28|\n",
      "| 20061221|STORE01316|          LS|    245.0|     429.21|\n",
      "| 20061221|STORE01501|          MS|     90.0|     113.72|\n",
      "| 20061218|STORE01535|          SS|      3.0|       2.27|\n",
      "| 20061220|STORE01650|          SS|     31.0|      81.67|\n",
      "| 20061223|STORE01695|          LS|    224.0|     483.26|\n",
      "| 20061219|STORE01984|          SS|      3.0|       2.21|\n",
      "| 20061218|STORE02192|          SS|      5.0|       4.71|\n",
      "+---------+----------+------------+---------+-----------+\n",
      "only showing top 20 rows\n",
      "\n"
     ]
    },
    {
     "name": "stderr",
     "output_type": "stream",
     "text": [
      "                                                                                \r"
     ]
    }
   ],
   "source": [
    "store_format_df.show()"
   ]
  },
  {
   "cell_type": "code",
   "execution_count": 10,
   "metadata": {},
   "outputs": [],
   "source": [
    "prod_10_df = spark.sql(\"SELECT SHOP_DATE, STORE_CODE, PROD_CODE_10, SUM(QUANTITY) AS TOTAL_QTY, ROUND(SUM(SPEND), 2) AS TOTAL_SPEND FROM STORE_DATA GROUP BY SHOP_DATE, STORE_CODE, PROD_CODE_10\")"
   ]
  },
  {
   "cell_type": "code",
   "execution_count": 11,
   "metadata": {},
   "outputs": [
    {
     "name": "stderr",
     "output_type": "stream",
     "text": [
      "[Stage 13:>                                                         (0 + 1) / 1]\r"
     ]
    },
    {
     "name": "stdout",
     "output_type": "stream",
     "text": [
      "+---------+----------+------------+---------+-----------+\n",
      "|SHOP_DATE|STORE_CODE|PROD_CODE_10|TOTAL_QTY|TOTAL_SPEND|\n",
      "+---------+----------+------------+---------+-----------+\n",
      "| 20060410|STORE00001|     CL00012|      1.0|       0.01|\n",
      "| 20060410|STORE00001|     CL00020|      5.0|        2.2|\n",
      "| 20060410|STORE00001|     CL00201|      1.0|       0.81|\n",
      "| 20060410|STORE00002|     CL00001|      2.0|       1.72|\n",
      "| 20060410|STORE00003|     CL00023|      1.0|       1.93|\n",
      "| 20060410|STORE00003|     CL00065|      1.0|       1.16|\n",
      "| 20060410|STORE00003|     CL00074|      2.0|       5.22|\n",
      "| 20060410|STORE00003|     CL00128|      1.0|       1.02|\n",
      "| 20060410|STORE00003|     CL00135|      1.0|       0.16|\n",
      "| 20060410|STORE00003|     CL00157|      2.0|       1.58|\n",
      "| 20060410|STORE00003|     CL00161|      3.0|        3.3|\n",
      "| 20060410|STORE00004|     CL00017|      1.0|       3.35|\n",
      "| 20060410|STORE00004|     CL00043|      1.0|       0.97|\n",
      "| 20060410|STORE00004|     CL00063|      6.0|       6.64|\n",
      "| 20060410|STORE00004|     CL00070|      3.0|       0.84|\n",
      "| 20060410|STORE00004|     CL00083|      3.0|       6.42|\n",
      "| 20060410|STORE00004|     CL00128|      1.0|        0.9|\n",
      "| 20060410|STORE00004|     CL00159|      2.0|       1.94|\n",
      "| 20060410|STORE00006|     CL00068|      1.0|       2.19|\n",
      "| 20060410|STORE00006|     CL00090|      3.0|       8.64|\n",
      "+---------+----------+------------+---------+-----------+\n",
      "only showing top 20 rows\n",
      "\n"
     ]
    },
    {
     "name": "stderr",
     "output_type": "stream",
     "text": [
      "                                                                                \r"
     ]
    }
   ],
   "source": [
    "prod_10_df.show()"
   ]
  },
  {
   "cell_type": "code",
   "execution_count": 12,
   "metadata": {},
   "outputs": [],
   "source": [
    "prod_20_df = spark.sql(\"SELECT SHOP_DATE, STORE_CODE, PROD_CODE_20, SUM(QUANTITY) AS TOTAL_QTY, ROUND(SUM(SPEND), 2) AS TOTAL_SPEND FROM STORE_DATA GROUP BY SHOP_DATE, STORE_CODE, PROD_CODE_20\")"
   ]
  },
  {
   "cell_type": "code",
   "execution_count": 13,
   "metadata": {},
   "outputs": [
    {
     "name": "stderr",
     "output_type": "stream",
     "text": [
      "[Stage 16:>                                                         (0 + 1) / 1]\r"
     ]
    },
    {
     "name": "stdout",
     "output_type": "stream",
     "text": [
      "+---------+----------+------------+---------+-----------+\n",
      "|SHOP_DATE|STORE_CODE|PROD_CODE_20|TOTAL_QTY|TOTAL_SPEND|\n",
      "+---------+----------+------------+---------+-----------+\n",
      "| 20060410|STORE00001|    DEP00003|      1.0|       0.01|\n",
      "| 20060410|STORE00001|    DEP00005|      5.0|        2.2|\n",
      "| 20060410|STORE00001|    DEP00025|      3.0|       2.61|\n",
      "| 20060410|STORE00001|    DEP00051|      3.0|       3.97|\n",
      "| 20060410|STORE00001|    DEP00067|      1.0|       0.81|\n",
      "| 20060410|STORE00001|    DEP00070|      1.0|       0.67|\n",
      "| 20060410|STORE00002|    DEP00008|      2.0|       2.21|\n",
      "| 20060410|STORE00002|    DEP00011|      1.0|        0.4|\n",
      "| 20060410|STORE00003|    DEP00008|     13.0|      17.66|\n",
      "| 20060410|STORE00003|    DEP00016|      1.0|       5.14|\n",
      "| 20060410|STORE00003|    DEP00021|     11.0|      16.59|\n",
      "| 20060410|STORE00003|    DEP00025|      4.0|       4.83|\n",
      "| 20060410|STORE00003|    DEP00069|      1.0|       1.87|\n",
      "| 20060410|STORE00003|    DEP00073|      3.0|       1.87|\n",
      "| 20060410|STORE00003|    DEP00083|      1.0|       6.26|\n",
      "| 20060410|STORE00004|    DEP00008|      4.0|       5.88|\n",
      "| 20060410|STORE00004|    DEP00010|      1.0|       0.43|\n",
      "| 20060410|STORE00004|    DEP00013|      2.0|      20.99|\n",
      "| 20060410|STORE00004|    DEP00021|      3.0|       5.21|\n",
      "| 20060410|STORE00004|    DEP00022|      4.0|       4.62|\n",
      "+---------+----------+------------+---------+-----------+\n",
      "only showing top 20 rows\n",
      "\n"
     ]
    },
    {
     "name": "stderr",
     "output_type": "stream",
     "text": [
      "                                                                                \r"
     ]
    }
   ],
   "source": [
    "prod_20_df.show()"
   ]
  },
  {
   "cell_type": "code",
   "execution_count": 14,
   "metadata": {},
   "outputs": [],
   "source": [
    "prod_30_df = spark.sql(\"SELECT SHOP_DATE, STORE_CODE, PROD_CODE_30, SUM(QUANTITY) AS TOTAL_QTY, ROUND(SUM(SPEND), 2) AS TOTAL_SPEND FROM STORE_DATA GROUP BY SHOP_DATE, STORE_CODE, PROD_CODE_30\")"
   ]
  },
  {
   "cell_type": "code",
   "execution_count": 15,
   "metadata": {},
   "outputs": [
    {
     "name": "stderr",
     "output_type": "stream",
     "text": [
      "[Stage 19:>                                                         (0 + 1) / 1]\r"
     ]
    },
    {
     "name": "stdout",
     "output_type": "stream",
     "text": [
      "+---------+----------+------------+---------+-----------+\n",
      "|SHOP_DATE|STORE_CODE|PROD_CODE_30|TOTAL_QTY|TOTAL_SPEND|\n",
      "+---------+----------+------------+---------+-----------+\n",
      "| 20060410|STORE00001|      G00002|      1.0|       0.01|\n",
      "| 20060410|STORE00001|      G00003|      5.0|        2.2|\n",
      "| 20060410|STORE00001|      G00006|      1.0|       2.58|\n",
      "| 20060410|STORE00001|      G00010|      3.0|       1.02|\n",
      "| 20060410|STORE00001|      G00015|      4.0|       5.26|\n",
      "| 20060410|STORE00002|      G00003|      1.0|       2.05|\n",
      "| 20060410|STORE00002|      G00011|      1.0|       0.41|\n",
      "| 20060410|STORE00002|      G00016|      3.0|       3.64|\n",
      "| 20060410|STORE00002|      G00021|      1.0|        1.4|\n",
      "| 20060410|STORE00002|      G00023|      1.0|       0.31|\n",
      "| 20060410|STORE00003|      G00002|      2.0|       2.11|\n",
      "| 20060410|STORE00003|      G00003|      2.0|        2.2|\n",
      "| 20060410|STORE00003|      G00004|     20.0|      23.56|\n",
      "| 20060410|STORE00003|      G00007|     47.0|      67.46|\n",
      "| 20060410|STORE00003|      G00013|      2.0|       1.18|\n",
      "| 20060410|STORE00003|      G00015|      4.0|       5.89|\n",
      "| 20060410|STORE00004|      G00003|      1.0|       3.35|\n",
      "| 20060410|STORE00004|      G00004|      8.0|       8.69|\n",
      "| 20060410|STORE00004|      G00008|      1.0|       0.87|\n",
      "| 20060410|STORE00004|      G00015|      1.0|       0.93|\n",
      "+---------+----------+------------+---------+-----------+\n",
      "only showing top 20 rows\n",
      "\n"
     ]
    },
    {
     "name": "stderr",
     "output_type": "stream",
     "text": [
      "                                                                                \r"
     ]
    }
   ],
   "source": [
    "prod_30_df.show()"
   ]
  },
  {
   "cell_type": "code",
   "execution_count": 16,
   "metadata": {},
   "outputs": [],
   "source": [
    "prod_40_df = spark.sql(\"SELECT SHOP_DATE, STORE_CODE, PROD_CODE_40, SUM(QUANTITY) AS TOTAL_QTY, ROUND(SUM(SPEND), 2) AS TOTAL_SPEND FROM STORE_DATA GROUP BY SHOP_DATE, STORE_CODE, PROD_CODE_40\")"
   ]
  },
  {
   "cell_type": "code",
   "execution_count": 17,
   "metadata": {},
   "outputs": [
    {
     "name": "stderr",
     "output_type": "stream",
     "text": [
      "[Stage 22:>                                                         (0 + 1) / 1]\r"
     ]
    },
    {
     "name": "stdout",
     "output_type": "stream",
     "text": [
      "+---------+----------+------------+---------+-----------+\n",
      "|SHOP_DATE|STORE_CODE|PROD_CODE_40|TOTAL_QTY|TOTAL_SPEND|\n",
      "+---------+----------+------------+---------+-----------+\n",
      "| 20061219|STORE00027|      D00002|     40.0|      58.04|\n",
      "| 20061218|STORE00030|      D00001|      7.0|       8.51|\n",
      "| 20061221|STORE00065|      D00004|      4.0|       7.92|\n",
      "| 20061218|STORE00327|      D00002|     39.0|      59.88|\n",
      "| 20061222|STORE00327|      D00002|     52.0|      77.29|\n",
      "| 20061219|STORE00337|      D00001|      4.0|       4.88|\n",
      "| 20061223|STORE00352|      D00003|      7.0|       5.06|\n",
      "| 20061218|STORE00377|      D00002|     84.0|     114.26|\n",
      "| 20061224|STORE00377|      D00004|      2.0|       4.18|\n",
      "| 20061219|STORE00468|      D00001|      2.0|       2.25|\n",
      "| 20061218|STORE00500|      D00009|      1.0|       1.35|\n",
      "| 20061223|STORE00508|      D00001|      5.0|       2.16|\n",
      "| 20061224|STORE00560|      D00003|     16.0|       11.8|\n",
      "| 20061219|STORE00574|      D00001|     23.0|      16.83|\n",
      "| 20061223|STORE00611|      D00002|     64.0|      86.44|\n",
      "| 20061224|STORE00616|      D00003|     27.0|      19.29|\n",
      "| 20061220|STORE00625|      D00001|      9.0|       5.01|\n",
      "| 20061224|STORE00667|      D00008|      9.0|       63.0|\n",
      "| 20061224|STORE00673|      D00001|      5.0|       7.55|\n",
      "| 20061218|STORE00704|      D00001|      4.0|        4.3|\n",
      "+---------+----------+------------+---------+-----------+\n",
      "only showing top 20 rows\n",
      "\n"
     ]
    },
    {
     "name": "stderr",
     "output_type": "stream",
     "text": [
      "                                                                                \r"
     ]
    }
   ],
   "source": [
    "prod_40_df.show()"
   ]
  },
  {
   "cell_type": "code",
   "execution_count": 18,
   "metadata": {},
   "outputs": [
    {
     "name": "stdout",
     "output_type": "stream",
     "text": [
      "root\n",
      " |-- SHOP_DATE: string (nullable = true)\n",
      " |-- STORE_CODE: string (nullable = true)\n",
      " |-- PROD_CODE_40: string (nullable = true)\n",
      " |-- TOTAL_QTY: double (nullable = true)\n",
      " |-- TOTAL_SPEND: double (nullable = true)\n",
      "\n"
     ]
    }
   ],
   "source": [
    "prod_40_df.printSchema()"
   ]
  },
  {
   "cell_type": "markdown",
   "metadata": {},
   "source": [
    "## Find the estimated size of each of the dataframes"
   ]
  },
  {
   "cell_type": "code",
   "execution_count": 19,
   "metadata": {},
   "outputs": [],
   "source": [
    "def estimate_df_memory_usage(df):\n",
    "    sample = df.sample(fraction=0.01)\n",
    "    pdf = sample.toPandas()\n",
    "    print(pdf.info())"
   ]
  },
  {
   "cell_type": "code",
   "execution_count": 20,
   "metadata": {},
   "outputs": [
    {
     "name": "stderr",
     "output_type": "stream",
     "text": [
      "                                                                                \r"
     ]
    },
    {
     "name": "stdout",
     "output_type": "stream",
     "text": [
      "<class 'pandas.core.frame.DataFrame'>\n",
      "RangeIndex: 6075 entries, 0 to 6074\n",
      "Data columns (total 4 columns):\n",
      " #   Column       Non-Null Count  Dtype  \n",
      "---  ------       --------------  -----  \n",
      " 0   SHOP_DATE    6075 non-null   object \n",
      " 1   STORE_CODE   6075 non-null   object \n",
      " 2   TOTAL_QTY    6075 non-null   float64\n",
      " 3   TOTAL_SPEND  6075 non-null   float64\n",
      "dtypes: float64(2), object(2)\n",
      "memory usage: 190.0+ KB\n",
      "None\n"
     ]
    }
   ],
   "source": [
    "estimate_df_memory_usage(store_df)"
   ]
  },
  {
   "cell_type": "markdown",
   "metadata": {},
   "source": [
    "### Estimated df size = 189.4 kb * 100 = 18.9MB"
   ]
  },
  {
   "cell_type": "code",
   "execution_count": 21,
   "metadata": {},
   "outputs": [
    {
     "name": "stderr",
     "output_type": "stream",
     "text": [
      "ERROR:root:KeyboardInterrupt while sending command.               (20 + 2) / 39]\n",
      "Traceback (most recent call last):\n",
      "  File \"/home/hduser/env/myenv/lib/python3.10/site-packages/py4j/java_gateway.py\", line 1038, in send_command\n",
      "    response = connection.send_command(command)\n",
      "  File \"/home/hduser/env/myenv/lib/python3.10/site-packages/py4j/clientserver.py\", line 511, in send_command\n",
      "    answer = smart_decode(self.stream.readline()[:-1])\n",
      "  File \"/usr/lib/python3.10/socket.py\", line 705, in readinto\n",
      "    return self._sock.recv_into(b)\n",
      "KeyboardInterrupt\n",
      "[Stage 26:===============================>                        (22 + 2) / 39]\r"
     ]
    },
    {
     "ename": "KeyboardInterrupt",
     "evalue": "",
     "output_type": "error",
     "traceback": [
      "\u001b[0;31m---------------------------------------------------------------------------\u001b[0m",
      "\u001b[0;31mKeyboardInterrupt\u001b[0m                         Traceback (most recent call last)",
      "Cell \u001b[0;32mIn[21], line 1\u001b[0m\n\u001b[0;32m----> 1\u001b[0m \u001b[43mestimate_df_memory_usage\u001b[49m\u001b[43m(\u001b[49m\u001b[43mstore_format_df\u001b[49m\u001b[43m)\u001b[49m\n",
      "Cell \u001b[0;32mIn[19], line 3\u001b[0m, in \u001b[0;36mestimate_df_memory_usage\u001b[0;34m(df)\u001b[0m\n\u001b[1;32m      1\u001b[0m \u001b[38;5;28;01mdef\u001b[39;00m \u001b[38;5;21mestimate_df_memory_usage\u001b[39m(df):\n\u001b[1;32m      2\u001b[0m     sample \u001b[38;5;241m=\u001b[39m df\u001b[38;5;241m.\u001b[39msample(fraction\u001b[38;5;241m=\u001b[39m\u001b[38;5;241m0.01\u001b[39m)\n\u001b[0;32m----> 3\u001b[0m     pdf \u001b[38;5;241m=\u001b[39m \u001b[43msample\u001b[49m\u001b[38;5;241;43m.\u001b[39;49m\u001b[43mtoPandas\u001b[49m\u001b[43m(\u001b[49m\u001b[43m)\u001b[49m\n\u001b[1;32m      4\u001b[0m     \u001b[38;5;28mprint\u001b[39m(pdf\u001b[38;5;241m.\u001b[39minfo())\n",
      "File \u001b[0;32m~/env/myenv/lib/python3.10/site-packages/pyspark/sql/pandas/conversion.py:208\u001b[0m, in \u001b[0;36mPandasConversionMixin.toPandas\u001b[0;34m(self)\u001b[0m\n\u001b[1;32m    205\u001b[0m             \u001b[38;5;28;01mraise\u001b[39;00m\n\u001b[1;32m    207\u001b[0m \u001b[38;5;66;03m# Below is toPandas without Arrow optimization.\u001b[39;00m\n\u001b[0;32m--> 208\u001b[0m pdf \u001b[38;5;241m=\u001b[39m pd\u001b[38;5;241m.\u001b[39mDataFrame\u001b[38;5;241m.\u001b[39mfrom_records(\u001b[38;5;28;43mself\u001b[39;49m\u001b[38;5;241;43m.\u001b[39;49m\u001b[43mcollect\u001b[49m\u001b[43m(\u001b[49m\u001b[43m)\u001b[49m, columns\u001b[38;5;241m=\u001b[39m\u001b[38;5;28mself\u001b[39m\u001b[38;5;241m.\u001b[39mcolumns)\n\u001b[1;32m    209\u001b[0m column_counter \u001b[38;5;241m=\u001b[39m Counter(\u001b[38;5;28mself\u001b[39m\u001b[38;5;241m.\u001b[39mcolumns)\n\u001b[1;32m    211\u001b[0m corrected_dtypes: List[Optional[Type]] \u001b[38;5;241m=\u001b[39m [\u001b[38;5;28;01mNone\u001b[39;00m] \u001b[38;5;241m*\u001b[39m \u001b[38;5;28mlen\u001b[39m(\u001b[38;5;28mself\u001b[39m\u001b[38;5;241m.\u001b[39mschema)\n",
      "File \u001b[0;32m~/env/myenv/lib/python3.10/site-packages/pyspark/sql/dataframe.py:1216\u001b[0m, in \u001b[0;36mDataFrame.collect\u001b[0;34m(self)\u001b[0m\n\u001b[1;32m   1196\u001b[0m \u001b[38;5;250m\u001b[39m\u001b[38;5;124;03m\"\"\"Returns all the records as a list of :class:`Row`.\u001b[39;00m\n\u001b[1;32m   1197\u001b[0m \n\u001b[1;32m   1198\u001b[0m \u001b[38;5;124;03m.. versionadded:: 1.3.0\u001b[39;00m\n\u001b[0;32m   (...)\u001b[0m\n\u001b[1;32m   1213\u001b[0m \u001b[38;5;124;03m[Row(age=14, name='Tom'), Row(age=23, name='Alice'), Row(age=16, name='Bob')]\u001b[39;00m\n\u001b[1;32m   1214\u001b[0m \u001b[38;5;124;03m\"\"\"\u001b[39;00m\n\u001b[1;32m   1215\u001b[0m \u001b[38;5;28;01mwith\u001b[39;00m SCCallSiteSync(\u001b[38;5;28mself\u001b[39m\u001b[38;5;241m.\u001b[39m_sc):\n\u001b[0;32m-> 1216\u001b[0m     sock_info \u001b[38;5;241m=\u001b[39m \u001b[38;5;28;43mself\u001b[39;49m\u001b[38;5;241;43m.\u001b[39;49m\u001b[43m_jdf\u001b[49m\u001b[38;5;241;43m.\u001b[39;49m\u001b[43mcollectToPython\u001b[49m\u001b[43m(\u001b[49m\u001b[43m)\u001b[49m\n\u001b[1;32m   1217\u001b[0m \u001b[38;5;28;01mreturn\u001b[39;00m \u001b[38;5;28mlist\u001b[39m(_load_from_socket(sock_info, BatchedSerializer(CPickleSerializer())))\n",
      "File \u001b[0;32m~/env/myenv/lib/python3.10/site-packages/py4j/java_gateway.py:1321\u001b[0m, in \u001b[0;36mJavaMember.__call__\u001b[0;34m(self, *args)\u001b[0m\n\u001b[1;32m   1314\u001b[0m args_command, temp_args \u001b[38;5;241m=\u001b[39m \u001b[38;5;28mself\u001b[39m\u001b[38;5;241m.\u001b[39m_build_args(\u001b[38;5;241m*\u001b[39margs)\n\u001b[1;32m   1316\u001b[0m command \u001b[38;5;241m=\u001b[39m proto\u001b[38;5;241m.\u001b[39mCALL_COMMAND_NAME \u001b[38;5;241m+\u001b[39m\\\n\u001b[1;32m   1317\u001b[0m     \u001b[38;5;28mself\u001b[39m\u001b[38;5;241m.\u001b[39mcommand_header \u001b[38;5;241m+\u001b[39m\\\n\u001b[1;32m   1318\u001b[0m     args_command \u001b[38;5;241m+\u001b[39m\\\n\u001b[1;32m   1319\u001b[0m     proto\u001b[38;5;241m.\u001b[39mEND_COMMAND_PART\n\u001b[0;32m-> 1321\u001b[0m answer \u001b[38;5;241m=\u001b[39m \u001b[38;5;28;43mself\u001b[39;49m\u001b[38;5;241;43m.\u001b[39;49m\u001b[43mgateway_client\u001b[49m\u001b[38;5;241;43m.\u001b[39;49m\u001b[43msend_command\u001b[49m\u001b[43m(\u001b[49m\u001b[43mcommand\u001b[49m\u001b[43m)\u001b[49m\n\u001b[1;32m   1322\u001b[0m return_value \u001b[38;5;241m=\u001b[39m get_return_value(\n\u001b[1;32m   1323\u001b[0m     answer, \u001b[38;5;28mself\u001b[39m\u001b[38;5;241m.\u001b[39mgateway_client, \u001b[38;5;28mself\u001b[39m\u001b[38;5;241m.\u001b[39mtarget_id, \u001b[38;5;28mself\u001b[39m\u001b[38;5;241m.\u001b[39mname)\n\u001b[1;32m   1325\u001b[0m \u001b[38;5;28;01mfor\u001b[39;00m temp_arg \u001b[38;5;129;01min\u001b[39;00m temp_args:\n",
      "File \u001b[0;32m~/env/myenv/lib/python3.10/site-packages/py4j/java_gateway.py:1038\u001b[0m, in \u001b[0;36mGatewayClient.send_command\u001b[0;34m(self, command, retry, binary)\u001b[0m\n\u001b[1;32m   1036\u001b[0m connection \u001b[38;5;241m=\u001b[39m \u001b[38;5;28mself\u001b[39m\u001b[38;5;241m.\u001b[39m_get_connection()\n\u001b[1;32m   1037\u001b[0m \u001b[38;5;28;01mtry\u001b[39;00m:\n\u001b[0;32m-> 1038\u001b[0m     response \u001b[38;5;241m=\u001b[39m \u001b[43mconnection\u001b[49m\u001b[38;5;241;43m.\u001b[39;49m\u001b[43msend_command\u001b[49m\u001b[43m(\u001b[49m\u001b[43mcommand\u001b[49m\u001b[43m)\u001b[49m\n\u001b[1;32m   1039\u001b[0m     \u001b[38;5;28;01mif\u001b[39;00m binary:\n\u001b[1;32m   1040\u001b[0m         \u001b[38;5;28;01mreturn\u001b[39;00m response, \u001b[38;5;28mself\u001b[39m\u001b[38;5;241m.\u001b[39m_create_connection_guard(connection)\n",
      "File \u001b[0;32m~/env/myenv/lib/python3.10/site-packages/py4j/clientserver.py:511\u001b[0m, in \u001b[0;36mClientServerConnection.send_command\u001b[0;34m(self, command)\u001b[0m\n\u001b[1;32m    509\u001b[0m \u001b[38;5;28;01mtry\u001b[39;00m:\n\u001b[1;32m    510\u001b[0m     \u001b[38;5;28;01mwhile\u001b[39;00m \u001b[38;5;28;01mTrue\u001b[39;00m:\n\u001b[0;32m--> 511\u001b[0m         answer \u001b[38;5;241m=\u001b[39m smart_decode(\u001b[38;5;28;43mself\u001b[39;49m\u001b[38;5;241;43m.\u001b[39;49m\u001b[43mstream\u001b[49m\u001b[38;5;241;43m.\u001b[39;49m\u001b[43mreadline\u001b[49m\u001b[43m(\u001b[49m\u001b[43m)\u001b[49m[:\u001b[38;5;241m-\u001b[39m\u001b[38;5;241m1\u001b[39m])\n\u001b[1;32m    512\u001b[0m         logger\u001b[38;5;241m.\u001b[39mdebug(\u001b[38;5;124m\"\u001b[39m\u001b[38;5;124mAnswer received: \u001b[39m\u001b[38;5;132;01m{0}\u001b[39;00m\u001b[38;5;124m\"\u001b[39m\u001b[38;5;241m.\u001b[39mformat(answer))\n\u001b[1;32m    513\u001b[0m         \u001b[38;5;66;03m# Happens when a the other end is dead. There might be an empty\u001b[39;00m\n\u001b[1;32m    514\u001b[0m         \u001b[38;5;66;03m# answer before the socket raises an error.\u001b[39;00m\n",
      "File \u001b[0;32m/usr/lib/python3.10/socket.py:705\u001b[0m, in \u001b[0;36mSocketIO.readinto\u001b[0;34m(self, b)\u001b[0m\n\u001b[1;32m    703\u001b[0m \u001b[38;5;28;01mwhile\u001b[39;00m \u001b[38;5;28;01mTrue\u001b[39;00m:\n\u001b[1;32m    704\u001b[0m     \u001b[38;5;28;01mtry\u001b[39;00m:\n\u001b[0;32m--> 705\u001b[0m         \u001b[38;5;28;01mreturn\u001b[39;00m \u001b[38;5;28;43mself\u001b[39;49m\u001b[38;5;241;43m.\u001b[39;49m\u001b[43m_sock\u001b[49m\u001b[38;5;241;43m.\u001b[39;49m\u001b[43mrecv_into\u001b[49m\u001b[43m(\u001b[49m\u001b[43mb\u001b[49m\u001b[43m)\u001b[49m\n\u001b[1;32m    706\u001b[0m     \u001b[38;5;28;01mexcept\u001b[39;00m timeout:\n\u001b[1;32m    707\u001b[0m         \u001b[38;5;28mself\u001b[39m\u001b[38;5;241m.\u001b[39m_timeout_occurred \u001b[38;5;241m=\u001b[39m \u001b[38;5;28;01mTrue\u001b[39;00m\n",
      "\u001b[0;31mKeyboardInterrupt\u001b[0m: "
     ]
    }
   ],
   "source": [
    "estimate_df_memory_usage(store_format_df)"
   ]
  },
  {
   "cell_type": "markdown",
   "metadata": {},
   "source": [
    "### Estimated df size = 235kb * 100 = 23.5MB"
   ]
  },
  {
   "cell_type": "code",
   "execution_count": null,
   "metadata": {},
   "outputs": [],
   "source": [
    "estimate_df_memory_usage(prod_10_df)"
   ]
  },
  {
   "cell_type": "markdown",
   "metadata": {},
   "source": [
    "### Estimated df size = 8.1MB * 100 = 810MB"
   ]
  },
  {
   "cell_type": "code",
   "execution_count": null,
   "metadata": {},
   "outputs": [],
   "source": [
    "estimate_df_memory_usage(prod_20_df)"
   ]
  },
  {
   "cell_type": "markdown",
   "metadata": {},
   "source": [
    "### Estimated df size = 5.2MB * 100 = 520MB"
   ]
  },
  {
   "cell_type": "code",
   "execution_count": null,
   "metadata": {},
   "outputs": [],
   "source": [
    "estimate_df_memory_usage(prod_30_df)"
   ]
  },
  {
   "cell_type": "markdown",
   "metadata": {},
   "source": [
    "### Estimated df size = 3MB * 100 = 300MB"
   ]
  },
  {
   "cell_type": "code",
   "execution_count": null,
   "metadata": {},
   "outputs": [],
   "source": [
    "estimate_df_memory_usage(prod_40_df)"
   ]
  },
  {
   "cell_type": "markdown",
   "metadata": {},
   "source": [
    "### Estimated df size = 1.1MB * 100 = 110MB"
   ]
  },
  {
   "cell_type": "markdown",
   "metadata": {},
   "source": [
    "# Convert string fields to numeric by extracting the numeric values only"
   ]
  },
  {
   "cell_type": "code",
   "execution_count": 23,
   "metadata": {},
   "outputs": [],
   "source": [
    "def extract_and_convert_to_numeric(code):\n",
    "    numeric_part = re.search(r'\\d+$', code).group()\n",
    "    return int(numeric_part)"
   ]
  },
  {
   "cell_type": "code",
   "execution_count": 24,
   "metadata": {},
   "outputs": [],
   "source": [
    "def convert_string_col_to_date(df, cols):\n",
    "    for col_name in cols:\n",
    "        df_date = df.withColumn(col_name, to_date(col(col_name), \"yyyyMMdd\"))\n",
    "    return df_date"
   ]
  },
  {
   "cell_type": "code",
   "execution_count": 25,
   "metadata": {},
   "outputs": [],
   "source": [
    "# Register the UDF for use with the dataframe\n",
    "extract_and_convert_to_numeric_udf = udf(extract_and_convert_to_numeric, IntegerType())"
   ]
  },
  {
   "cell_type": "code",
   "execution_count": 26,
   "metadata": {},
   "outputs": [],
   "source": [
    "def convert_string_col_to_int(df, cols):\n",
    "    for col_name in cols:\n",
    "        df = df.withColumn(col_name, extract_and_convert_to_numeric_udf(df[col_name]))\n",
    "        # df_int.drop(col_name)\n",
    "    return df"
   ]
  },
  {
   "cell_type": "code",
   "execution_count": 27,
   "metadata": {},
   "outputs": [],
   "source": [
    "store_df_int = convert_string_col_to_int(store_df, [\"STORE_CODE\"])\n",
    "store_df_final = convert_string_col_to_date(store_df_int, [\"SHOP_DATE\"])"
   ]
  },
  {
   "cell_type": "code",
   "execution_count": 28,
   "metadata": {},
   "outputs": [
    {
     "name": "stdout",
     "output_type": "stream",
     "text": [
      "root\n",
      " |-- SHOP_DATE: string (nullable = true)\n",
      " |-- STORE_CODE: integer (nullable = true)\n",
      " |-- TOTAL_QTY: double (nullable = true)\n",
      " |-- TOTAL_SPEND: double (nullable = true)\n",
      "\n"
     ]
    }
   ],
   "source": [
    "store_df_int.printSchema()"
   ]
  },
  {
   "cell_type": "code",
   "execution_count": 29,
   "metadata": {},
   "outputs": [
    {
     "name": "stdout",
     "output_type": "stream",
     "text": [
      "root\n",
      " |-- SHOP_DATE: date (nullable = true)\n",
      " |-- STORE_CODE: integer (nullable = true)\n",
      " |-- TOTAL_QTY: double (nullable = true)\n",
      " |-- TOTAL_SPEND: double (nullable = true)\n",
      "\n"
     ]
    }
   ],
   "source": [
    "store_df_final.printSchema()"
   ]
  },
  {
   "cell_type": "code",
   "execution_count": 30,
   "metadata": {},
   "outputs": [
    {
     "name": "stderr",
     "output_type": "stream",
     "text": [
      "[Stage 31:>                                                         (0 + 1) / 1]\r"
     ]
    },
    {
     "name": "stdout",
     "output_type": "stream",
     "text": [
      "+----------+----------+---------+-----------+\n",
      "| SHOP_DATE|STORE_CODE|TOTAL_QTY|TOTAL_SPEND|\n",
      "+----------+----------+---------+-----------+\n",
      "|2006-12-23|         3|    215.0|     316.65|\n",
      "|2006-12-19|       113|    235.0|     340.55|\n",
      "|2006-12-21|       120|     21.0|      70.53|\n",
      "|2006-12-24|       227|     73.0|     164.17|\n",
      "|2006-12-24|       432|     86.0|     118.75|\n",
      "|2006-12-19|       494|     13.0|      10.78|\n",
      "|2006-12-21|       633|    144.0|     228.09|\n",
      "|2006-12-21|       639|    155.0|      178.8|\n",
      "|2006-12-22|      1091|      9.0|      12.73|\n",
      "|2006-12-20|      1215|    125.0|     202.03|\n",
      "|2006-12-18|      1289|     36.0|      37.31|\n",
      "|2006-12-22|      1330|     24.0|      22.07|\n",
      "|2006-12-22|      1603|     21.0|       27.4|\n",
      "|2006-12-24|      1651|    113.0|     137.57|\n",
      "|2006-12-22|      1672|     41.0|      53.55|\n",
      "|2006-12-21|      1707|    264.0|     350.76|\n",
      "|2006-12-23|      1793|     23.0|      18.85|\n",
      "|2006-12-23|      2524|    147.0|     200.77|\n",
      "|2006-12-19|      2575|      8.0|      28.24|\n",
      "|2006-12-20|      2619|    241.0|     316.43|\n",
      "+----------+----------+---------+-----------+\n",
      "only showing top 20 rows\n",
      "\n"
     ]
    },
    {
     "name": "stderr",
     "output_type": "stream",
     "text": [
      "                                                                                \r"
     ]
    }
   ],
   "source": [
    "store_df_final.show()"
   ]
  },
  {
   "cell_type": "code",
   "execution_count": 31,
   "metadata": {},
   "outputs": [],
   "source": [
    "store_format_df_int = convert_string_col_to_int(store_format_df, [\"STORE_CODE\"])\n",
    "store_format_df_final = convert_string_col_to_date(store_format_df_int, [\"SHOP_DATE\"])"
   ]
  },
  {
   "cell_type": "code",
   "execution_count": 32,
   "metadata": {},
   "outputs": [
    {
     "name": "stdout",
     "output_type": "stream",
     "text": [
      "root\n",
      " |-- SHOP_DATE: date (nullable = true)\n",
      " |-- STORE_CODE: integer (nullable = true)\n",
      " |-- STORE_FORMAT: string (nullable = true)\n",
      " |-- TOTAL_QTY: double (nullable = true)\n",
      " |-- TOTAL_SPEND: double (nullable = true)\n",
      "\n"
     ]
    }
   ],
   "source": [
    "store_format_df_final.printSchema()"
   ]
  },
  {
   "cell_type": "code",
   "execution_count": 44,
   "metadata": {},
   "outputs": [
    {
     "name": "stderr",
     "output_type": "stream",
     "text": [
      "                                                                                \r"
     ]
    },
    {
     "data": {
      "text/plain": [
       "4"
      ]
     },
     "execution_count": 44,
     "metadata": {},
     "output_type": "execute_result"
    }
   ],
   "source": [
    "store_format_df_final.select(\"STORE_FORMAT\").distinct().count()"
   ]
  },
  {
   "cell_type": "code",
   "execution_count": 33,
   "metadata": {},
   "outputs": [
    {
     "name": "stdout",
     "output_type": "stream",
     "text": [
      "root\n",
      " |-- SHOP_DATE: string (nullable = true)\n",
      " |-- STORE_CODE: string (nullable = true)\n",
      " |-- PROD_CODE_10: string (nullable = true)\n",
      " |-- TOTAL_QTY: double (nullable = true)\n",
      " |-- TOTAL_SPEND: double (nullable = true)\n",
      "\n"
     ]
    }
   ],
   "source": [
    "prod_10_df.printSchema()"
   ]
  },
  {
   "cell_type": "code",
   "execution_count": 34,
   "metadata": {},
   "outputs": [
    {
     "name": "stderr",
     "output_type": "stream",
     "text": [
      "Exception in thread \"serve-DataFrame\" java.net.SocketTimeoutException: Accept timed out\n",
      "\tat java.net.PlainSocketImpl.socketAccept(Native Method)\n",
      "\tat java.net.AbstractPlainSocketImpl.accept(AbstractPlainSocketImpl.java:409)\n",
      "\tat java.net.ServerSocket.implAccept(ServerSocket.java:560)\n",
      "\tat java.net.ServerSocket.accept(ServerSocket.java:528)\n",
      "\tat org.apache.spark.security.SocketAuthServer$$anon$1.run(SocketAuthServer.scala:65)\n",
      "[Stage 32:======================================================> (38 + 1) / 39]\r"
     ]
    },
    {
     "name": "stdout",
     "output_type": "stream",
     "text": [
      "+------+\n",
      "|Prefix|\n",
      "+------+\n",
      "|     C|\n",
      "+------+\n",
      "\n"
     ]
    },
    {
     "name": "stderr",
     "output_type": "stream",
     "text": [
      "                                                                                \r"
     ]
    }
   ],
   "source": [
    "# Extract the prefixes from PROD_CODE_10\n",
    "prod_10_df = prod_10_df.withColumn(\"Prefix\", substring(col(\"PROD_CODE_10\"), 1, 1))\n",
    "prod_10_df.select(\"Prefix\").distinct().show()"
   ]
  },
  {
   "cell_type": "markdown",
   "metadata": {},
   "source": [
    "There is a single prefix for prod_code_10 so we can remove this and store as int without\n",
    "the risk of aggregating on common numeric portions of prod_code_10"
   ]
  },
  {
   "cell_type": "code",
   "execution_count": 35,
   "metadata": {},
   "outputs": [
    {
     "name": "stderr",
     "output_type": "stream",
     "text": [
      "[Stage 37:>                                                         (0 + 1) / 1]\r"
     ]
    },
    {
     "name": "stdout",
     "output_type": "stream",
     "text": [
      "+----------+----------+------------+---------+-----------+\n",
      "| SHOP_DATE|STORE_CODE|PROD_CODE_10|TOTAL_QTY|TOTAL_SPEND|\n",
      "+----------+----------+------------+---------+-----------+\n",
      "|2006-04-10|         1|          12|      1.0|       0.01|\n",
      "|2006-04-10|         1|          20|      5.0|        2.2|\n",
      "|2006-04-10|         1|         201|      1.0|       0.81|\n",
      "|2006-04-10|         2|           1|      2.0|       1.72|\n",
      "|2006-04-10|         3|          23|      1.0|       1.93|\n",
      "|2006-04-10|         3|          65|      1.0|       1.16|\n",
      "|2006-04-10|         3|          74|      2.0|       5.22|\n",
      "|2006-04-10|         3|         128|      1.0|       1.02|\n",
      "|2006-04-10|         3|         135|      1.0|       0.16|\n",
      "|2006-04-10|         3|         157|      2.0|       1.58|\n",
      "|2006-04-10|         3|         161|      3.0|        3.3|\n",
      "|2006-04-10|         4|          17|      1.0|       3.35|\n",
      "|2006-04-10|         4|          43|      1.0|       0.97|\n",
      "|2006-04-10|         4|          63|      6.0|       6.64|\n",
      "|2006-04-10|         4|          70|      3.0|       0.84|\n",
      "|2006-04-10|         4|          83|      3.0|       6.42|\n",
      "|2006-04-10|         4|         128|      1.0|        0.9|\n",
      "|2006-04-10|         4|         159|      2.0|       1.94|\n",
      "|2006-04-10|         6|          68|      1.0|       2.19|\n",
      "|2006-04-10|         6|          90|      3.0|       8.64|\n",
      "+----------+----------+------------+---------+-----------+\n",
      "only showing top 20 rows\n",
      "\n",
      "root\n",
      " |-- SHOP_DATE: date (nullable = true)\n",
      " |-- STORE_CODE: integer (nullable = true)\n",
      " |-- PROD_CODE_10: integer (nullable = true)\n",
      " |-- TOTAL_QTY: double (nullable = true)\n",
      " |-- TOTAL_SPEND: double (nullable = true)\n",
      "\n"
     ]
    },
    {
     "name": "stderr",
     "output_type": "stream",
     "text": [
      "                                                                                \r"
     ]
    }
   ],
   "source": [
    "prod_10_df_int = convert_string_col_to_int(prod_10_df, [\"STORE_CODE\", \"PROD_CODE_10\"])\n",
    "prod_10_df_final = convert_string_col_to_date(prod_10_df_int, [\"SHOP_DATE\"])\n",
    "prod_10_df_final = prod_10_df_final.drop(\"Prefix\")\n",
    "prod_10_df_final.show()\n",
    "prod_10_df_final.printSchema()"
   ]
  },
  {
   "cell_type": "code",
   "execution_count": 36,
   "metadata": {},
   "outputs": [
    {
     "name": "stderr",
     "output_type": "stream",
     "text": [
      "[Stage 38:======================================================> (38 + 1) / 39]\r"
     ]
    },
    {
     "name": "stdout",
     "output_type": "stream",
     "text": [
      "+------+\n",
      "|Prefix|\n",
      "+------+\n",
      "|   DEP|\n",
      "+------+\n",
      "\n"
     ]
    },
    {
     "name": "stderr",
     "output_type": "stream",
     "text": [
      "                                                                                \r"
     ]
    }
   ],
   "source": [
    "# Extract the prefixes from PROD_CODE_20\n",
    "prod_20_df = prod_20_df.withColumn(\"Prefix\", substring(col(\"PROD_CODE_20\"), 1, 3))\n",
    "prod_20_df.select(\"Prefix\").distinct().show()"
   ]
  },
  {
   "cell_type": "code",
   "execution_count": 37,
   "metadata": {},
   "outputs": [
    {
     "name": "stderr",
     "output_type": "stream",
     "text": [
      "[Stage 43:>                                                         (0 + 1) / 1]\r"
     ]
    },
    {
     "name": "stdout",
     "output_type": "stream",
     "text": [
      "+----------+----------+------------+---------+-----------+\n",
      "| SHOP_DATE|STORE_CODE|PROD_CODE_20|TOTAL_QTY|TOTAL_SPEND|\n",
      "+----------+----------+------------+---------+-----------+\n",
      "|2006-04-10|         1|           3|      1.0|       0.01|\n",
      "|2006-04-10|         1|           5|      5.0|        2.2|\n",
      "|2006-04-10|         1|          25|      3.0|       2.61|\n",
      "|2006-04-10|         1|          51|      3.0|       3.97|\n",
      "|2006-04-10|         1|          67|      1.0|       0.81|\n",
      "|2006-04-10|         1|          70|      1.0|       0.67|\n",
      "|2006-04-10|         2|           8|      2.0|       2.21|\n",
      "|2006-04-10|         2|          11|      1.0|        0.4|\n",
      "|2006-04-10|         3|           8|     13.0|      17.66|\n",
      "|2006-04-10|         3|          16|      1.0|       5.14|\n",
      "|2006-04-10|         3|          21|     11.0|      16.59|\n",
      "|2006-04-10|         3|          25|      4.0|       4.83|\n",
      "|2006-04-10|         3|          69|      1.0|       1.87|\n",
      "|2006-04-10|         3|          73|      3.0|       1.87|\n",
      "|2006-04-10|         3|          83|      1.0|       6.26|\n",
      "|2006-04-10|         4|           8|      4.0|       5.88|\n",
      "|2006-04-10|         4|          10|      1.0|       0.43|\n",
      "|2006-04-10|         4|          13|      2.0|      20.99|\n",
      "|2006-04-10|         4|          21|      3.0|       5.21|\n",
      "|2006-04-10|         4|          22|      4.0|       4.62|\n",
      "+----------+----------+------------+---------+-----------+\n",
      "only showing top 20 rows\n",
      "\n",
      "root\n",
      " |-- SHOP_DATE: date (nullable = true)\n",
      " |-- STORE_CODE: integer (nullable = true)\n",
      " |-- PROD_CODE_20: integer (nullable = true)\n",
      " |-- TOTAL_QTY: double (nullable = true)\n",
      " |-- TOTAL_SPEND: double (nullable = true)\n",
      "\n"
     ]
    },
    {
     "name": "stderr",
     "output_type": "stream",
     "text": [
      "                                                                                \r"
     ]
    }
   ],
   "source": [
    "prod_20_df_int = convert_string_col_to_int(prod_20_df, [\"STORE_CODE\", \"PROD_CODE_20\"])\n",
    "prod_20_df_final = convert_string_col_to_date(prod_20_df_int, [\"SHOP_DATE\"])\n",
    "prod_20_df_final = prod_20_df_final.drop(\"Prefix\")\n",
    "prod_20_df_final.show()\n",
    "prod_20_df_final.printSchema()"
   ]
  },
  {
   "cell_type": "code",
   "execution_count": 38,
   "metadata": {},
   "outputs": [
    {
     "name": "stderr",
     "output_type": "stream",
     "text": [
      "[Stage 44:======================================================> (38 + 1) / 39]\r"
     ]
    },
    {
     "name": "stdout",
     "output_type": "stream",
     "text": [
      "+------+\n",
      "|Prefix|\n",
      "+------+\n",
      "|     G|\n",
      "+------+\n",
      "\n"
     ]
    },
    {
     "name": "stderr",
     "output_type": "stream",
     "text": [
      "                                                                                \r"
     ]
    }
   ],
   "source": [
    "# Extract the prefixes from PROD_CODE_30\n",
    "prod_30_df = prod_30_df.withColumn(\"Prefix\", substring(col(\"PROD_CODE_30\"), 1, 1))\n",
    "prod_30_df.select(\"Prefix\").distinct().show()"
   ]
  },
  {
   "cell_type": "code",
   "execution_count": 39,
   "metadata": {},
   "outputs": [
    {
     "name": "stderr",
     "output_type": "stream",
     "text": [
      "[Stage 49:>                                                         (0 + 1) / 1]\r"
     ]
    },
    {
     "name": "stdout",
     "output_type": "stream",
     "text": [
      "+----------+----------+------------+---------+-----------+\n",
      "| SHOP_DATE|STORE_CODE|PROD_CODE_30|TOTAL_QTY|TOTAL_SPEND|\n",
      "+----------+----------+------------+---------+-----------+\n",
      "|2006-04-10|         1|           2|      1.0|       0.01|\n",
      "|2006-04-10|         1|           3|      5.0|        2.2|\n",
      "|2006-04-10|         1|           6|      1.0|       2.58|\n",
      "|2006-04-10|         1|          10|      3.0|       1.02|\n",
      "|2006-04-10|         1|          15|      4.0|       5.26|\n",
      "|2006-04-10|         2|           3|      1.0|       2.05|\n",
      "|2006-04-10|         2|          11|      1.0|       0.41|\n",
      "|2006-04-10|         2|          16|      3.0|       3.64|\n",
      "|2006-04-10|         2|          21|      1.0|        1.4|\n",
      "|2006-04-10|         2|          23|      1.0|       0.31|\n",
      "|2006-04-10|         3|           2|      2.0|       2.11|\n",
      "|2006-04-10|         3|           3|      2.0|        2.2|\n",
      "|2006-04-10|         3|           4|     20.0|      23.56|\n",
      "|2006-04-10|         3|           7|     47.0|      67.46|\n",
      "|2006-04-10|         3|          13|      2.0|       1.18|\n",
      "|2006-04-10|         3|          15|      4.0|       5.89|\n",
      "|2006-04-10|         4|           3|      1.0|       3.35|\n",
      "|2006-04-10|         4|           4|      8.0|       8.69|\n",
      "|2006-04-10|         4|           8|      1.0|       0.87|\n",
      "|2006-04-10|         4|          15|      1.0|       0.93|\n",
      "+----------+----------+------------+---------+-----------+\n",
      "only showing top 20 rows\n",
      "\n",
      "root\n",
      " |-- SHOP_DATE: date (nullable = true)\n",
      " |-- STORE_CODE: integer (nullable = true)\n",
      " |-- PROD_CODE_30: integer (nullable = true)\n",
      " |-- TOTAL_QTY: double (nullable = true)\n",
      " |-- TOTAL_SPEND: double (nullable = true)\n",
      "\n"
     ]
    },
    {
     "name": "stderr",
     "output_type": "stream",
     "text": [
      "                                                                                \r"
     ]
    }
   ],
   "source": [
    "prod_30_df_int = convert_string_col_to_int(prod_30_df, [\"STORE_CODE\", \"PROD_CODE_30\"])\n",
    "prod_30_df_final = convert_string_col_to_date(prod_30_df_int, [\"SHOP_DATE\"])\n",
    "prod_30_df_final = prod_30_df_final.drop(\"Prefix\")\n",
    "prod_30_df_final.show()\n",
    "prod_30_df_final.printSchema()"
   ]
  },
  {
   "cell_type": "code",
   "execution_count": 40,
   "metadata": {},
   "outputs": [
    {
     "name": "stderr",
     "output_type": "stream",
     "text": [
      "[Stage 50:======================================================> (38 + 1) / 39]\r"
     ]
    },
    {
     "name": "stdout",
     "output_type": "stream",
     "text": [
      "+------+\n",
      "|Prefix|\n",
      "+------+\n",
      "|     D|\n",
      "+------+\n",
      "\n"
     ]
    },
    {
     "name": "stderr",
     "output_type": "stream",
     "text": [
      "                                                                                \r"
     ]
    }
   ],
   "source": [
    "# Extract the prefixes from PROD_CODE_30\n",
    "prod_40_df = prod_40_df.withColumn(\"Prefix\", substring(col(\"PROD_CODE_40\"), 1, 1))\n",
    "prod_40_df.select(\"Prefix\").distinct().show()"
   ]
  },
  {
   "cell_type": "code",
   "execution_count": 41,
   "metadata": {},
   "outputs": [
    {
     "name": "stderr",
     "output_type": "stream",
     "text": [
      "[Stage 55:>                                                         (0 + 1) / 1]\r"
     ]
    },
    {
     "name": "stdout",
     "output_type": "stream",
     "text": [
      "+----------+----------+------------+---------+-----------+\n",
      "| SHOP_DATE|STORE_CODE|PROD_CODE_40|TOTAL_QTY|TOTAL_SPEND|\n",
      "+----------+----------+------------+---------+-----------+\n",
      "|2006-12-19|        27|           2|     40.0|      58.04|\n",
      "|2006-12-18|        30|           1|      7.0|       8.51|\n",
      "|2006-12-21|        65|           4|      4.0|       7.92|\n",
      "|2006-12-18|       327|           2|     39.0|      59.88|\n",
      "|2006-12-22|       327|           2|     52.0|      77.29|\n",
      "|2006-12-19|       337|           1|      4.0|       4.88|\n",
      "|2006-12-23|       352|           3|      7.0|       5.06|\n",
      "|2006-12-18|       377|           2|     84.0|     114.26|\n",
      "|2006-12-24|       377|           4|      2.0|       4.18|\n",
      "|2006-12-19|       468|           1|      2.0|       2.25|\n",
      "|2006-12-18|       500|           9|      1.0|       1.35|\n",
      "|2006-12-23|       508|           1|      5.0|       2.16|\n",
      "|2006-12-24|       560|           3|     16.0|       11.8|\n",
      "|2006-12-19|       574|           1|     23.0|      16.83|\n",
      "|2006-12-23|       611|           2|     64.0|      86.44|\n",
      "|2006-12-24|       616|           3|     27.0|      19.29|\n",
      "|2006-12-20|       625|           1|      9.0|       5.01|\n",
      "|2006-12-24|       667|           8|      9.0|       63.0|\n",
      "|2006-12-24|       673|           1|      5.0|       7.55|\n",
      "|2006-12-18|       704|           1|      4.0|        4.3|\n",
      "+----------+----------+------------+---------+-----------+\n",
      "only showing top 20 rows\n",
      "\n",
      "root\n",
      " |-- SHOP_DATE: date (nullable = true)\n",
      " |-- STORE_CODE: integer (nullable = true)\n",
      " |-- PROD_CODE_40: integer (nullable = true)\n",
      " |-- TOTAL_QTY: double (nullable = true)\n",
      " |-- TOTAL_SPEND: double (nullable = true)\n",
      "\n"
     ]
    },
    {
     "name": "stderr",
     "output_type": "stream",
     "text": [
      "                                                                                \r"
     ]
    }
   ],
   "source": [
    "prod_40_df_int = convert_string_col_to_int(prod_40_df, [\"STORE_CODE\", \"PROD_CODE_40\"])\n",
    "prod_40_df_final = convert_string_col_to_date(prod_40_df_int, [\"SHOP_DATE\"])\n",
    "prod_40_df_final = prod_40_df_final.drop(\"Prefix\")\n",
    "prod_40_df_final.show()\n",
    "prod_40_df_final.printSchema()"
   ]
  },
  {
   "cell_type": "code",
   "execution_count": 43,
   "metadata": {},
   "outputs": [
    {
     "name": "stderr",
     "output_type": "stream",
     "text": [
      "                                                                                \r"
     ]
    },
    {
     "data": {
      "text/plain": [
       "9"
      ]
     },
     "execution_count": 43,
     "metadata": {},
     "output_type": "execute_result"
    }
   ],
   "source": [
    "prod_40_df_final.select(\"PROD_CODE_40\").distinct().count()b"
   ]
  },
  {
   "cell_type": "code",
   "execution_count": 46,
   "metadata": {},
   "outputs": [],
   "source": [
    "store_format_df_final.createOrReplaceTempView(\"STORE_FORMAT_DATA\")"
   ]
  },
  {
   "cell_type": "code",
   "execution_count": 48,
   "metadata": {},
   "outputs": [],
   "source": [
    "store_format_df_agg = spark.sql(\"SELECT SHOP_DATE, STORE_FORMAT, SUM(TOTAL_QTY) AS TOTAL_QTY, ROUND(SUM(TOTAL_SPEND), 2) AS TOTAL_SPEND FROM STORE_FORMAT_DATA GROUP BY SHOP_DATE, STORE_FORMAT\")"
   ]
  },
  {
   "cell_type": "code",
   "execution_count": 49,
   "metadata": {},
   "outputs": [
    {
     "name": "stdout",
     "output_type": "stream",
     "text": [
      "root\n",
      " |-- SHOP_DATE: date (nullable = true)\n",
      " |-- STORE_FORMAT: string (nullable = true)\n",
      " |-- TOTAL_QTY: double (nullable = true)\n",
      " |-- TOTAL_SPEND: double (nullable = true)\n",
      "\n"
     ]
    }
   ],
   "source": [
    "store_format_df_agg.printSchema()"
   ]
  },
  {
   "cell_type": "code",
   "execution_count": 50,
   "metadata": {},
   "outputs": [
    {
     "name": "stderr",
     "output_type": "stream",
     "text": [
      "[Stage 76:=============================>                            (1 + 1) / 2]\r"
     ]
    },
    {
     "name": "stdout",
     "output_type": "stream",
     "text": [
      "+----------+------------+---------+-----------+\n",
      "| SHOP_DATE|STORE_FORMAT|TOTAL_QTY|TOTAL_SPEND|\n",
      "+----------+------------+---------+-----------+\n",
      "|2007-08-31|          MS|  13711.0|   16807.61|\n",
      "|2007-08-29|          SS|   5023.0|    5868.81|\n",
      "|2007-03-02|          LS|  39974.0|   49780.98|\n",
      "|2007-04-22|          MS|  13154.0|   15747.25|\n",
      "|2007-06-09|          MS|  12476.0|   15635.42|\n",
      "|2008-07-05|         XLS|   5499.0|    6929.79|\n",
      "|2008-06-09|          SS|   4272.0|    5131.97|\n",
      "|2007-04-05|          LS|  36783.0|   47767.08|\n",
      "|2007-04-05|          SS|   3711.0|    4599.49|\n",
      "|2007-02-24|         XLS|   5288.0|    6753.42|\n",
      "|2006-06-17|         XLS|   4660.0|    6294.41|\n",
      "|2007-08-14|          MS|  12126.0|   14373.81|\n",
      "|2007-09-21|          SS|   4289.0|    5050.13|\n",
      "|2006-10-20|          MS|  11456.0|   14161.85|\n",
      "|2006-10-10|          SS|   3039.0|    3426.32|\n",
      "|2006-08-15|          SS|   3579.0|     4264.1|\n",
      "|2006-08-11|          MS|  10874.0|   13729.17|\n",
      "|2007-10-14|          SS|   3995.0|    4473.16|\n",
      "|2007-01-04|         XLS|   4432.0|    5763.44|\n",
      "|2006-12-10|          MS|  11744.0|   15935.69|\n",
      "+----------+------------+---------+-----------+\n",
      "only showing top 20 rows\n",
      "\n"
     ]
    },
    {
     "name": "stderr",
     "output_type": "stream",
     "text": [
      "                                                                                \r"
     ]
    }
   ],
   "source": [
    "store_format_df_agg.show()"
   ]
  },
  {
   "cell_type": "code",
   "execution_count": 53,
   "metadata": {},
   "outputs": [
    {
     "name": "stderr",
     "output_type": "stream",
     "text": [
      "                                                                                \r"
     ]
    }
   ],
   "source": [
    "store_format_df_agg.write.parquet(\"hdfs://localhost:9000/transactions/store_format_agg.parquet\")"
   ]
  },
  {
   "cell_type": "markdown",
   "metadata": {},
   "source": [
    "### Explore EDA capabilities of pyspark - is it better to use pandas on the data directly?\n",
    "### How useful is spark for feature engineering vs python?\n",
    "### Is it better to build NN in spark (does spark support keras/tensorflow) or in python?"
   ]
  }
 ],
 "metadata": {
  "kernelspec": {
   "display_name": "Python 3 (ipykernel)",
   "language": "python",
   "name": "python3"
  },
  "language_info": {
   "codemirror_mode": {
    "name": "ipython",
    "version": 3
   },
   "file_extension": ".py",
   "mimetype": "text/x-python",
   "name": "python",
   "nbconvert_exporter": "python",
   "pygments_lexer": "ipython3",
   "version": "3.8.18"
  },
  "varInspector": {
   "cols": {
    "lenName": 16,
    "lenType": 16,
    "lenVar": 40
   },
   "kernels_config": {
    "python": {
     "delete_cmd_postfix": "",
     "delete_cmd_prefix": "del ",
     "library": "var_list.py",
     "varRefreshCmd": "print(var_dic_list())"
    },
    "r": {
     "delete_cmd_postfix": ") ",
     "delete_cmd_prefix": "rm(",
     "library": "var_list.r",
     "varRefreshCmd": "cat(var_dic_list()) "
    }
   },
   "types_to_exclude": [
    "module",
    "function",
    "builtin_function_or_method",
    "instance",
    "_Feature"
   ],
   "window_display": false
  }
 },
 "nbformat": 4,
 "nbformat_minor": 4
}
